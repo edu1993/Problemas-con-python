{
  "nbformat": 4,
  "nbformat_minor": 0,
  "metadata": {
    "colab": {
      "name": "Ordenamiento QuickShort.ipynb",
      "provenance": [],
      "authorship_tag": "ABX9TyNg2R41VMSqTtof9dGOncaQ",
      "include_colab_link": true
    },
    "kernelspec": {
      "name": "python3",
      "display_name": "Python 3"
    },
    "language_info": {
      "name": "python"
    }
  },
  "cells": [
    {
      "cell_type": "markdown",
      "metadata": {
        "id": "view-in-github",
        "colab_type": "text"
      },
      "source": [
        "<a href=\"https://colab.research.google.com/github/edu1993/Problemas-con-python/blob/main/Ordenamiento_QuickShort.ipynb\" target=\"_parent\"><img src=\"https://colab.research.google.com/assets/colab-badge.svg\" alt=\"Open In Colab\"/></a>"
      ]
    },
    {
      "cell_type": "code",
      "execution_count": 7,
      "metadata": {
        "id": "3eQUxvZ8TnFR"
      },
      "outputs": [],
      "source": [
        "def particionado(lista):\n",
        "  pivote=lista[0]\n",
        "  mayores=[]\n",
        "  menores=[]\n",
        "  for i in range(1,len(lista)):\n",
        "    if lista[i]<pivote:\n",
        "      menores.append(lista[i])\n",
        "    else:\n",
        "      mayores.append(lista[i])\n",
        "  return menores,pivote,mayores\n",
        "\n",
        "def quickshort(lista):\n",
        "  if len(lista) < 2:\n",
        "    return lista\n",
        "  menores, pivote, mayores= particionado(lista)\n",
        "  return quickshort(menores)+[pivote]+quickshort(mayores)"
      ]
    },
    {
      "cell_type": "code",
      "source": [
        "lista=[4,2]\n",
        "print(quickshort(lista))"
      ],
      "metadata": {
        "colab": {
          "base_uri": "https://localhost:8080/"
        },
        "id": "Er_c6nd1UJaf",
        "outputId": "ea14194c-a611-44e4-c877-f3f3caa36ce7"
      },
      "execution_count": 10,
      "outputs": [
        {
          "output_type": "stream",
          "name": "stdout",
          "text": [
            "[2, 4]\n"
          ]
        }
      ]
    }
  ]
}