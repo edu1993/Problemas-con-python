{
  "nbformat": 4,
  "nbformat_minor": 0,
  "metadata": {
    "colab": {
      "name": "Cifrado cesar.ipynb",
      "provenance": [],
      "authorship_tag": "ABX9TyPbGjctGkwORVFfP9ZQkAfW"
    },
    "kernelspec": {
      "name": "python3",
      "display_name": "Python 3"
    },
    "language_info": {
      "name": "python"
    }
  },
  "cells": [
    {
      "cell_type": "code",
      "execution_count": 1,
      "metadata": {
        "id": "wIf4PUasdM_O"
      },
      "outputs": [],
      "source": [
        "def rotor(A, K):\n",
        "    \n",
        "    b=[]\n",
        "    if len(A)==0:\n",
        "        return A\n",
        "    if K > len(A):\n",
        "        K= K%len(A)\n",
        "  \n",
        "    for i in range(-K,0):\n",
        "        b.append(A[i])\n",
        "    for t in range(0,len(A)-K):\n",
        "        b.append(A[t])\n",
        " \n",
        "    return b"
      ]
    },
    {
      "cell_type": "code",
      "source": [
        "dic=['a', 'b', 'c', 'd', 'e', 'f', 'g', 'h', 'i', 'j', 'k', 'l', 'm', 'n',\"ñ\", 'o', 'p', 'q', 'r', 's', 't', 'u', 'v', 'w', 'x', 'y', 'z']\n",
        "dicr= rotor(dic,79768)\n",
        "\n",
        "palabra=\"hola como estas\"\n",
        "for l in palabra:\n",
        "  for i in range(0,26):\n",
        "    if l==dic[i]:\n",
        "\n",
        "      print(dicr[i],end=\"\")\n",
        "      \n",
        "    if l==\" \":\n",
        "      print(\" \",end=\"\")\n",
        "p=\"xfbq\"\n",
        "print(\"\")\n",
        "for l in p:\n",
        "  for i in range(0,26):\n",
        "    if l==dicr[i]:\n",
        "\n",
        "      print(dic[i])"
      ],
      "metadata": {
        "colab": {
          "base_uri": "https://localhost:8080/"
        },
        "id": "bVZSKVjAdYYA",
        "outputId": "5f1ecef5-4632-4cff-e8a0-808ad0757efc"
      },
      "execution_count": 2,
      "outputs": [
        {
          "output_type": "stream",
          "name": "stdout",
          "text": [
            "xfbq                          sfcf                          ujkqj\n",
            "h\n",
            "o\n",
            "l\n",
            "a\n"
          ]
        }
      ]
    }
  ]
}