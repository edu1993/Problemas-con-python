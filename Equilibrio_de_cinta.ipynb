{
  "nbformat": 4,
  "nbformat_minor": 0,
  "metadata": {
    "colab": {
      "name": "Equilibrio de cinta.ipynb",
      "provenance": [],
      "authorship_tag": "ABX9TyOWXV6fDsPt3v59hy8Y7NJk",
      "include_colab_link": true
    },
    "kernelspec": {
      "name": "python3",
      "display_name": "Python 3"
    },
    "language_info": {
      "name": "python"
    }
  },
  "cells": [
    {
      "cell_type": "markdown",
      "metadata": {
        "id": "view-in-github",
        "colab_type": "text"
      },
      "source": [
        "<a href=\"https://colab.research.google.com/github/edu1993/Problemas-con-python/blob/main/Equilibrio_de_cinta.ipynb\" target=\"_parent\"><img src=\"https://colab.research.google.com/assets/colab-badge.svg\" alt=\"Open In Colab\"/></a>"
      ]
    },
    {
      "cell_type": "markdown",
      "source": [
        "\n",
        "\n",
        "Se da una matriz no vacía A que consta de N enteros. La matriz A representa números en una cinta.\n",
        "\n",
        "Cualquier entero P, tal que 0 < P < N, divide esta cinta en dos partes no vacías: A[0], A[1], ..., A[P − 1] y A[P], A[P + 1], ..., A[N − 1].\n",
        "\n",
        "La diferencia entre las dos partes es el valor de: | (A[0] + A[1] + ... + A[P − 1]) − (A[P] + A[P + 1] + ... + A[N − 1])|\n",
        "\n",
        "En otras palabras, es la diferencia absoluta entre la suma de la primera parte y la suma de la segunda parte.\n",
        "\n",
        "Por ejemplo, considere la matriz A tal que:\n",
        "\n",
        "  A[0] = 3\n",
        "  A[1] = 1\n",
        "  A[2] = 2\n",
        "  A[3] = 4\n",
        "  A[4] = 3\n",
        "Podemos dividir esta cinta en cuatro lugares:\n",
        "\n",
        "P = 1, diferencia = |3 − 10| = 7\n",
        "P = 2, diferencia = |4 − 9| = 5\n",
        "P = 3, diferencia = |6 − 7| = 1\n",
        "P = 4, diferencia = |10 − 3| = 7\n",
        "Escribir una función:\n",
        "\n",
        "solución def(A)\n",
        "\n",
        "que, dada una matriz A no vacía de N enteros, devuelve la diferencia mínima que se puede lograr.\n",
        "\n",
        "Por ejemplo, dado:\n",
        "\n",
        "  A[0] = 3\n",
        "  A[1] = 1\n",
        "  A[2] = 2\n",
        "  A[3] = 4\n",
        "  A[4] = 3\n",
        "la función debe devolver 1, como se explicó anteriormente.\n",
        "\n",
        "Escriba un algoritmo eficiente para los siguientes supuestos:\n",
        "\n",
        "N es un entero dentro del rango [2.. 100.000];\n",
        "cada elemento de la matriz A es un entero dentro del rango [−1,000.. 1.000].\n",
        "\n"
      ],
      "metadata": {
        "id": "TVBQeHVprlHc"
      }
    },
    {
      "cell_type": "code",
      "execution_count": 15,
      "metadata": {
        "colab": {
          "base_uri": "https://localhost:8080/"
        },
        "id": "cO4Ls9IyiLJN",
        "outputId": "a2452e98-2788-48df-d10a-bad4d4252af3"
      },
      "outputs": [
        {
          "output_type": "stream",
          "name": "stdout",
          "text": [
            "1\n"
          ]
        }
      ],
      "source": [
        "vec=[3,1,2,4,3]\n",
        "sum=0\n",
        "\n",
        "for i in range(0,len(vec)):\n",
        "    sum+=vec[i]\n",
        "iz=0\n",
        "for t in range(0,len(vec)-1):\n",
        "  iz=iz+vec[t]\n",
        "  de=sum-iz\n",
        "  res=abs(iz-de)\n",
        "  if t==0:\n",
        "    min=res\n",
        "  if min>res:\n",
        "    min=res\n",
        "print(min)\n",
        "\n"
      ]
    }
  ]
}