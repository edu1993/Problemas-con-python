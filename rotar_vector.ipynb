{
  "nbformat": 4,
  "nbformat_minor": 0,
  "metadata": {
    "colab": {
      "name": "rotar vectr.ipynb",
      "provenance": [],
      "authorship_tag": "ABX9TyN+na/1W78AaXFiwEZGapmF"
    },
    "kernelspec": {
      "name": "python3",
      "display_name": "Python 3"
    },
    "language_info": {
      "name": "python"
    }
  },
  "cells": [
    {
      "cell_type": "markdown",
      "source": [
        "Se da una matriz A que consta de N enteros. La rotación de la matriz significa que cada elemento se desplaza a la derecha por un índice, y el último elemento de la matriz se mueve al primer lugar. Por ejemplo, la rotación de la matriz A = [3, 8, 9, 7, 6] es [6, 3, 8, 9, 7] (los elementos se desplazan a la derecha por un índice y 6 se mueve al primer lugar).\n",
        "\n",
        "El objetivo es rotar la matriz A K veces; es decir, cada elemento de A se desplazará a los tiempos K correctos.\n",
        "\n",
        "Escribir una función:\n",
        "\n",
        "solución def(A, K)\n",
        "\n",
        "que, dada una matriz A que consta de N enteros y un entero K, devuelve la matriz A rotada K veces.\n",
        "\n",
        "Por ejemplo, dado\n",
        "\n",
        "    A = [3, 8, 9, 7, 6]\n",
        "    K = 3\n",
        "la función debe devolver [9, 7, 6, 3, 8]. Se realizaron tres rotaciones:\n",
        "\n",
        "    [3, 8, 9, 7, 6] -> [6, 3, 8, 9, 7]\n",
        "    [6, 3, 8, 9, 7] -> [7, 6, 3, 8, 9]\n",
        "    [7, 6, 3, 8, 9] -> [9, 7, 6, 3, 8]\n",
        "Para otro ejemplo, dado\n",
        "\n",
        "    A = [0, 0, 0]\n",
        "    K = 1\n",
        "la función debe devolver [0, 0, 0]\n",
        "\n",
        "Dado\n",
        "\n",
        "    A = [1, 2, 3, 4]\n",
        "    K = 4\n",
        "la función debe devolver [1, 2, 3, 4]\n",
        "\n",
        "Supongamos que:\n",
        "\n",
        "N y K son enteros dentro del rango [0.. 100];\n",
        "cada elemento de la matriz A es un entero dentro del rango [−1,000.. 1.000].\n",
        "En su solución, concéntrese en la corrección. El rendimiento de su solución no será el foco de la evaluación."
      ],
      "metadata": {
        "id": "NpxAeO4OQw7J"
      }
    },
    {
      "cell_type": "code",
      "execution_count": 42,
      "metadata": {
        "id": "3RlnK-FrDwOB"
      },
      "outputs": [],
      "source": [
        "# you can write to stdout for debugging purposes, e.g.\n",
        "# print(\"this is a debug message\")\n",
        "\n",
        "def solution(A, K):\n",
        "    # write your code in Python 3.6\n",
        "    b=[]\n",
        "    if len(A)==0:\n",
        "        return A\n",
        "    if K > len(A):\n",
        "        K= K%len(A)\n",
        "  \n",
        "    for i in range(-K,0):\n",
        "        b.append(A[i])\n",
        "    for t in range(0,len(A)-K):\n",
        "        b.append(A[t])\n",
        " \n",
        "    return b"
      ]
    },
    {
      "cell_type": "code",
      "source": [
        ""
      ],
      "metadata": {
        "id": "N3krkrjBQ4Eq"
      },
      "execution_count": null,
      "outputs": []
    }
  ]
}