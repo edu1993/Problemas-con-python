{
  "nbformat": 4,
  "nbformat_minor": 0,
  "metadata": {
    "colab": {
      "name": "frog jump.ipynb",
      "provenance": [],
      "authorship_tag": "ABX9TyOrDOMdFke9DnHBP79ViLok",
      "include_colab_link": true
    },
    "kernelspec": {
      "name": "python3",
      "display_name": "Python 3"
    },
    "language_info": {
      "name": "python"
    }
  },
  "cells": [
    {
      "cell_type": "markdown",
      "metadata": {
        "id": "view-in-github",
        "colab_type": "text"
      },
      "source": [
        "<a href=\"https://colab.research.google.com/github/edu1993/Problemas-con-python/blob/main/frog_jump.ipynb\" target=\"_parent\"><img src=\"https://colab.research.google.com/assets/colab-badge.svg\" alt=\"Open In Colab\"/></a>"
      ]
    },
    {
      "cell_type": "markdown",
      "source": [
        "Una pequeña rana quiere llegar al otro lado de la carretera. La rana se encuentra actualmente en la posición X y quiere llegar a una posición mayor o igual que Y. La rana pequeña siempre salta una distancia fija, D.\n",
        "\n",
        "Cuente el número mínimo de saltos que la rana pequeña debe realizar para alcanzar su objetivo.\n",
        "\n",
        "Escribir una función:\n",
        "\n",
        "solución def (X, Y, D)\n",
        "\n",
        "que, dados tres enteros X, Y y D, devuelve el número mínimo de saltos desde la posición X a una posición igual o mayor que Y.\n",
        "\n",
        "Por ejemplo, dado:\n",
        "\n",
        "  X = 10\n",
        "  Y = 85\n",
        "  D = 30\n",
        "  \n",
        "la función debe devolver 3, porque la rana se colocará de la siguiente manera:\n",
        "\n",
        "después del primer salto, en la posición 10 + 30 = 40\n",
        "después del segundo salto, en la posición 10 + 30 + 30 = 70\n",
        "después del tercer salto, en la posición 10 + 30 + 30 + 30 = 100\n",
        "Escriba un algoritmo eficiente para los siguientes supuestos:\n",
        "\n",
        "X, Y y D son enteros dentro del rango [1.. 1.000.000.000];\n",
        "X ≤ Y."
      ],
      "metadata": {
        "id": "OWIbSDt_ELOw"
      }
    },
    {
      "cell_type": "code",
      "execution_count": 14,
      "metadata": {
        "colab": {
          "base_uri": "https://localhost:8080/"
        },
        "id": "ZZYDjjwb5-u4",
        "outputId": "2300a7b0-da28-4685-89fd-5efa488cd97d"
      },
      "outputs": [
        {
          "output_type": "stream",
          "name": "stdout",
          "text": [
            "33333333333291\n"
          ]
        }
      ],
      "source": [
        "x=1282\n",
        "y=1000000000000000\n",
        "d=30\n",
        "distancia=y-x\n",
        "if distancia % d == 0:\n",
        "  saltos=distancia //d\n",
        "elif distancia < d:\n",
        "  saltos=1\n",
        "else:\n",
        "  div= (y-x)//d\n",
        "  saltos= div+1\n",
        "\n",
        "\n",
        "print(saltos)\n"
      ]
    }
  ]
}