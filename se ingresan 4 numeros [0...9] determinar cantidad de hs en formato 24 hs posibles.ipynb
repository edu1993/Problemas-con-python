{
  "nbformat": 4,
  "nbformat_minor": 0,
  "metadata": {
    "colab": {
      "name": "horas .ipynb",
      "provenance": [],
      "authorship_tag": "ABX9TyOpCTWbSnX0MTipGVdDywgq",
      "include_colab_link": true
    },
    "kernelspec": {
      "name": "python3",
      "display_name": "Python 3"
    },
    "language_info": {
      "name": "python"
    }
  },
  "cells": [
    {
      "cell_type": "markdown",
      "metadata": {
        "id": "view-in-github",
        "colab_type": "text"
      },
      "source": [
        "<a href=\"https://colab.research.google.com/github/edu1993/Problemas-con-python/blob/main/se%20ingresan%204%20numeros%20%5B0...9%5D%20determinar%20cantidad%20de%20hs%20en%20formato%2024%20hs%20posibles.ipynb\" target=\"_parent\"><img src=\"https://colab.research.google.com/assets/colab-badge.svg\" alt=\"Open In Colab\"/></a>"
      ]
    },
    {
      "cell_type": "code",
      "execution_count": 51,
      "metadata": {
        "colab": {
          "base_uri": "https://localhost:8080/"
        },
        "id": "1Ei5tdwYYBVU",
        "outputId": "21652c8d-407c-4092-d879-d28ffe2e70ff"
      },
      "outputs": [
        {
          "output_type": "stream",
          "name": "stdout",
          "text": [
            "cantidad de convinaciones 0\n"
          ]
        }
      ],
      "source": [
        "hsposibles=[]#lista vacia donde se guardan las horas posibles \n",
        "#generamos todas las convinaciones posibles respectando el estandar de 24 hs y las guardamos en una lista vacia\n",
        "import itertools as it\n",
        "a=6\n",
        "b=2\n",
        "c=4\n",
        "d=7\n",
        "lista=list(it.permutations([a,b,c,d], 4))\n",
        "lista=list(set(lista))\n",
        "for i in lista:\n",
        "          if(i[2]<6 ):#los minutos no deben ser mayores a 60 min \n",
        "            if(i[0]<=2):\n",
        "              if(i[0]==2 and i[1]<=4):\n",
        "                n=i[0]*1000+i[1]*100+i[2]*10+i[3]\n",
        "                hsposibles.append(n)\n",
        "              if(i[0]<2):\n",
        "                n=i[0]*1000+i[1]*100+i[2]*10+i[3]\n",
        "                hsposibles.append(n)     \n",
        "print(\"cantidad de convinaciones\",len(hsposibles))\n",
        "\n",
        "  "
      ]
    }
  ]
}