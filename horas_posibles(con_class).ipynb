{
  "nbformat": 4,
  "nbformat_minor": 0,
  "metadata": {
    "colab": {
      "name": "horas posibles(con class).ipynb",
      "provenance": [],
      "authorship_tag": "ABX9TyOa46P+iouU100RA01POPpB",
      "include_colab_link": true
    },
    "kernelspec": {
      "name": "python3",
      "display_name": "Python 3"
    },
    "language_info": {
      "name": "python"
    }
  },
  "cells": [
    {
      "cell_type": "markdown",
      "metadata": {
        "id": "view-in-github",
        "colab_type": "text"
      },
      "source": [
        "<a href=\"https://colab.research.google.com/github/edu1993/Problemas-con-python/blob/main/horas_posibles(con_class).ipynb\" target=\"_parent\"><img src=\"https://colab.research.google.com/assets/colab-badge.svg\" alt=\"Open In Colab\"/></a>"
      ]
    },
    {
      "cell_type": "code",
      "source": [
        "import itertools as it #biblioteca que permite obtener convinaciones "
      ],
      "metadata": {
        "id": "3dEPyip1F4Pd"
      },
      "execution_count": 61,
      "outputs": []
    },
    {
      "cell_type": "code",
      "execution_count": null,
      "metadata": {
        "id": "uRD8l69Qz0Hb"
      },
      "outputs": [],
      "source": [
        "class Solution:\n",
        "      def __init__(self,a,b,c,d):\n",
        "        self.a=a\n",
        "        self.b=b\n",
        "        self.c=c\n",
        "        self.d=d\n",
        "      def sol(self):\n",
        "          hsposibles=[]\n",
        "          lista=list(it.permutations([self.a,self.b,self.c,self.d], 4))#obtenemos todas las permutaciones\n",
        "          lista=list(set(lista))#sacamos las permutaciones repetidas\n",
        "          for i in lista:#evaluamos si la convinacion puede ser una hs valida\n",
        "\n",
        "                    if(i[2]<6 ):#los minutos no deben ser mayores a 60 min \n",
        "                      if(i[0]<=2):\n",
        "                        if(i[0]==2 and i[1]<=4):\n",
        "                          n=i[0]*1000+i[1]*100+i[2]*10+i[3]\n",
        "                          hsposibles.append(n)#asignamos esta convinacion a una lista vacia \n",
        "                        if(i[0]<2):\n",
        "                          n=i[0]*1000+i[1]*100+i[2]*10+i[3]\n",
        "                          hsposibles.append(n)   \n",
        "\n",
        "          sol= int(len(hsposibles))#la cantidad de elementos de la lista sera \n",
        "                                  #igual a la cantidad de hs validas         \n",
        "          return sol\n",
        "    \n"
      ]
    },
    {
      "cell_type": "code",
      "source": [
        "def prueba(res,a,b,c,d):#funcion de prueba\n",
        "  print(\"valores \",a,b,c,d)\n",
        "  a= Solution(a,b,c,d)\n",
        "  res= a.sol()-res\n",
        "  if(res==0):\n",
        "    print(\"ok\")\n",
        "  else:\n",
        "    print(\"error\")\n",
        "  \n"
      ],
      "metadata": {
        "id": "h5D6MEUFB-Q_"
      },
      "execution_count": 65,
      "outputs": []
    },
    {
      "cell_type": "code",
      "source": [
        "#pruebas\n",
        "prueba(6,1,8,3,2)\n",
        "prueba(3,2,3,3,2)\n",
        "prueba(0,6,2,4,7)\n",
        "\n"
      ],
      "metadata": {
        "colab": {
          "base_uri": "https://localhost:8080/",
          "height": 0
        },
        "id": "rHlmZKBoJ9aP",
        "outputId": "b62e732e-ece6-4b33-993d-88b0861070e9"
      },
      "execution_count": 67,
      "outputs": [
        {
          "output_type": "stream",
          "name": "stdout",
          "text": [
            "valores  1 8 3 2\n",
            "ok\n",
            "valores  2 3 3 2\n",
            "ok\n",
            "valores  6 2 4 7\n",
            "ok\n"
          ]
        }
      ]
    }
  ]
}