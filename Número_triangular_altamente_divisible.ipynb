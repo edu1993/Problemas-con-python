{
  "nbformat": 4,
  "nbformat_minor": 0,
  "metadata": {
    "colab": {
      "name": "Número triangular altamente divisible.ipynb",
      "provenance": [],
      "authorship_tag": "ABX9TyN0zVyPTFdiIr+EGCEkufJL",
      "include_colab_link": true
    },
    "kernelspec": {
      "name": "python3",
      "display_name": "Python 3"
    },
    "language_info": {
      "name": "python"
    }
  },
  "cells": [
    {
      "cell_type": "markdown",
      "metadata": {
        "id": "view-in-github",
        "colab_type": "text"
      },
      "source": [
        "<a href=\"https://colab.research.google.com/github/edu1993/numeros-triangulares-/blob/main/N%C3%BAmero_triangular_altamente_divisible.ipynb\" target=\"_parent\"><img src=\"https://colab.research.google.com/assets/colab-badge.svg\" alt=\"Open In Colab\"/></a>"
      ]
    },
    {
      "cell_type": "code",
      "source": [
        "import math"
      ],
      "metadata": {
        "id": "SZkO98SKzhTE"
      },
      "execution_count": 14,
      "outputs": []
    },
    {
      "cell_type": "code",
      "source": [
        "def cd(x):\n",
        "  cont=0\n",
        "  div=x\n",
        "  raiz=int(math.sqrt(x))\n",
        "  div=raiz\n",
        "  while div>0:\n",
        "    if(x%div==0):\n",
        "      cont+=1\n",
        "    div-=1\n",
        "  sobrante=x-raiz**2\n",
        "  if(sobrante ==0):\n",
        "    rest=1\n",
        "  else:\n",
        "    rest=0\n",
        "  return (cont*2-rest)"
      ],
      "metadata": {
        "id": "qu6YzUKEuoSG"
      },
      "execution_count": 54,
      "outputs": []
    },
    {
      "cell_type": "code",
      "source": [
        "n=1\n",
        "while n<1000000:\n",
        "  t=(n*(n+1))/2\n",
        "  if(cd(t)>500):\n",
        "    print(\"numero triangular\",t,\"posicion\",n,\"divisores\",cd(t))\n",
        "    break\n",
        "  n+=1"
      ],
      "metadata": {
        "colab": {
          "base_uri": "https://localhost:8080/"
        },
        "id": "aaD4W4Tr8_FQ",
        "outputId": "596a796d-3903-48a0-a952-0f9f86c47d19"
      },
      "execution_count": 64,
      "outputs": [
        {
          "output_type": "stream",
          "name": "stdout",
          "text": [
            "numero triangular 76576500.0 posicion 12375 divisores 576\n"
          ]
        }
      ]
    }
  ]
}